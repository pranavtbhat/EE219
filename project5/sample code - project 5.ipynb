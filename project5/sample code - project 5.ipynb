{
 "cells": [
  {
   "cell_type": "code",
   "execution_count": 23,
   "metadata": {
    "collapsed": false
   },
   "outputs": [
    {
     "name": "stdout",
     "output_type": "stream",
     "text": [
      "loading tweets\n"
     ]
    }
   ],
   "source": [
    "from matplotlib import pyplot\n",
    "import json\n",
    "import datetime, time\n",
    "import numpy as np\n",
    "import statsmodels.api as sm\n",
    "\n",
    "f = open('tweet_data/tweets_#gopatriots.txt')\n",
    "line = f.readline()\n",
    "timestamps = []\n",
    "tweets = []\n",
    "print (\"loading tweets\")"
   ]
  },
  {
   "cell_type": "code",
   "execution_count": 24,
   "metadata": {
    "collapsed": false
   },
   "outputs": [
    {
     "name": "stdout",
     "output_type": "stream",
     "text": [
      "tweets loaded\n"
     ]
    }
   ],
   "source": [
    "while len(line)!=0:\n",
    "    tweet = json.loads(line)\n",
    "    tweets.append(tweet)\n",
    "    timestamps.append(tweet['firstpost_date'])\n",
    "    line = f.readline()\n",
    "\n",
    "num_tweets = len(tweets)\n",
    "print (\"tweets loaded\")"
   ]
  },
  {
   "cell_type": "code",
   "execution_count": 6,
   "metadata": {
    "collapsed": false
   },
   "outputs": [
    {
     "name": "stdout",
     "output_type": "stream",
     "text": [
      "extracting features\n"
     ]
    }
   ],
   "source": [
    "#pyplot.hist(timestamps, range=(timestamps[0],timestamps[-1]), bins= 1000)\n",
    "#pyplot.show()\n",
    "\n",
    "start_date = datetime.datetime(2015,01,30, 0,0,0)\n",
    "end_date = datetime.datetime(2015,02,03, 0,0,0)\n",
    "mintime = int(time.mktime(start_date.timetuple()))\n",
    "maxtime = int(time.mktime(end_date.timetuple()))\n",
    "date_reference = datetime.datetime(2015,01,01, 0,0,0)\n",
    "time_reference = int(time.mktime(date_reference.timetuple()))\n",
    "\n",
    "print (\"extracting features\")\n",
    "\n",
    "num_hours = int((maxtime-mintime)/3600)\n",
    "num_tweets_in_hour = [0]*num_hours\t\t\t# number of tweets in the hour\n",
    "num_retweets_in_hour = [0]*num_hours\t\t# number of retweets in the hour\n",
    "sum_followers = [0]*num_hours\t\t\t\t# sum of the number of followers of users posting tweets in the hour\n",
    "max_followers = [0]*num_hours\t\t\t\t# max number of followers for the users posting tweets in the hour\n",
    "\n",
    "time_of_day = [0]*num_hours\n",
    "mintime_daytime = int((mintime-time_reference)/3600) % 24\n",
    "for t in range(0,num_hours):\n",
    "    time_of_day[t] = mintime_daytime + t"
   ]
  },
  {
   "cell_type": "code",
   "execution_count": 25,
   "metadata": {
    "collapsed": false
   },
   "outputs": [
    {
     "name": "stdout",
     "output_type": "stream",
     "text": [
      "u'Boston, Massachusetts'\n",
      "u''\n",
      "u''\n",
      "u'new york city.'\n",
      "u'Plantation, FL'\n",
      "u'Dol Guldur.'\n",
      "u'Plantation, FL'\n",
      "u'Boston, Massachusetts'\n",
      "u'Adelaide, South Australia'\n",
      "u'Powell, Ohio'\n",
      "u''\n",
      "u'Liverpool, ah no, Chitr\\xe9 D: '\n",
      "u'On To The AFC Title Game '\n",
      "u'Kawasaki,Kanagawa,Japan'\n",
      "u'Kawasaki,Kanagawa,Japan'\n",
      "u'Massachusetts'\n",
      "u''\n",
      "u'The Universe '\n",
      "u'New York, NY'\n",
      "u'North of Boston'\n",
      "u''\n",
      "u'Boston, MA'\n",
      "u'Kawasaki,Kanagawa,Japan'\n",
      "u'Orlando, FL'\n",
      "u''\n",
      "u''\n",
      "u'Longview, Tx'\n",
      "u\"22 \\u2022 enfp \\u2022 \\u264a\\u2022 bi \\u2022 5'11\"\n",
      "u'Toluca, M\\xe9xico'\n",
      "u'Patriot Nation'\n",
      "u'Hurricane, West Virginia'\n",
      "u''\n",
      "u''\n",
      "u'Driver, Seat '\n",
      "u'CT'\n",
      "u''\n",
      "u'New York / Patriots Nation '\n",
      "u'540'\n",
      "u'Powell, Ohio'\n",
      "u''\n",
      "u'Sheffield'\n",
      "u'Boston, Massachusetts'\n",
      "u''\n",
      "u''\n",
      "u'Boston, MA'\n",
      "u'North Carolina '\n",
      "u'N. Ky./Cincy'\n",
      "u'Virginia Beach'\n",
      "u'Cancun, Quintana Roo'\n",
      "u'Boston, Massachusetts'\n",
      "u'Boston, Massachusetts'\n",
      "u'Charlotte, NC'\n",
      "u'State of Live Free or Die'\n",
      "u''\n",
      "u'Powell, Ohio'\n",
      "u'Mexico'\n",
      "u'Boston, Massachusetts'\n",
      "u'New York / Patriots Nation '\n",
      "u'Boston '\n",
      "u'Ottawa, Canada'\n",
      "u'Monterrey, M\\xe9xico :) '\n",
      "u'floriddaa \\u2600'\n",
      "u'Calabasas, CA'\n",
      "u'Boston, MA'\n",
      "u''\n",
      "u'Providence, Boston'\n",
      "u'Montgomery, AL'\n",
      "u''\n",
      "u''\n",
      "u'Gillette Stadium'\n",
      "u''\n",
      "u''\n",
      "u'New York, NY'\n",
      "u''\n",
      "u'IN'\n",
      "u'Powell, Ohio'\n",
      "u''\n",
      "u'Graniteville/Columbia, SC'\n",
      "u'Boston, Massachusetts'\n",
      "u'Texas, Brownsville'\n",
      "u'Powell, Ohio'\n",
      "u'Bowling Green,Kentucky'\n",
      "u''\n",
      "u'Massachusetts'\n",
      "u'Boston'\n",
      "u'\\u32e1I\\u057c\\u0e23\\u0569i\\u0433e\\u32e1 Matt.28v20'\n",
      "u''\n",
      "u''\n",
      "u''\n",
      "u'Yo aqu\\xed, y vos? '\n",
      "u''\n",
      "u'Yo aqu\\xed, y vos? '\n",
      "u'Whidbey Island, WA'\n",
      "u''\n",
      "u'Massachusetts'\n",
      "u'\\xdcT: 33.914452,-84.287946'\n",
      "u'314 Shawmut Avenue, Boston, MA'\n",
      "u'Hotlanta/Massachusetts '\n",
      "u'Boston, MA '\n",
      "u'San Diego, Ca'\n"
     ]
    }
   ],
   "source": [
    "from pprint import pprint\n",
    "for i in range(100):\n",
    "    tweet = tweets[i]\n",
    "    pprint(tweet['tweet']['user']['location'])\n",
    "#pprint(tweet)"
   ]
  },
  {
   "cell_type": "code",
   "execution_count": null,
   "metadata": {
    "collapsed": true
   },
   "outputs": [],
   "source": [
    "for i in range(0,num_tweets):\n",
    "    tweet = tweets[i]\n",
    "    tweet_time = tweet['firstpost_date']\n",
    "    if tweet_time >= mintime:\n",
    "        hour = int((tweet_time-mintime)/3600)\n",
    "        if hour >= num_hours:\n",
    "            break;\n",
    "        num_tweets_in_hour[hour] += 1\n",
    "        try:\n",
    "            num_retweets_in_hour += tweet['metrics']['citations']['data'][0]['citations']\n",
    "        except:\n",
    "            pass\n",
    "        sum_followers[hour] += tweet['tweet']['user']['followers_count']\n",
    "        max_followers[hour] = max(max_followers[hour], tweet['tweet']['user']['followers_count'])\n",
    "\n",
    "print (\"fitting the model\")\n",
    "\n",
    "y = num_tweets_in_hour[1:]\n",
    "x = [num_tweets_in_hour[0:-1] , num_retweets_in_hour[0:-1] , sum_followers[0:-1] , max_followers[0:-1] , time_of_day[0:-1]]\n",
    "\n",
    "def reg_m(y, x):\n",
    "    ones = np.ones(len(x[0]))\n",
    "    X = sm.add_constant(np.column_stack((x[0], ones)))\n",
    "    for ele in x[1:]:\n",
    "        X = sm.add_constant(np.column_stack((ele, X)))\n",
    "#    results = sm.OLS(y, X).fit()\n",
    "    results = sm.regression.linear_model.OLS(y, X).fit()\n",
    "    return results\n",
    "\n",
    "model = reg_m(y, x)\n",
    "var_names = model.model.data.xnames\n",
    "const_index = var_names.index('const')\n",
    "x_p = [1]*len(x)\n",
    "x_p.insert(const_index, 0)\n",
    "pr = model.predict(x_p)\n",
    "print model.summary()"
   ]
  }
 ],
 "metadata": {
  "anaconda-cloud": {},
  "kernelspec": {
   "display_name": "Python [default]",
   "language": "python",
   "name": "python2"
  },
  "language_info": {
   "codemirror_mode": {
    "name": "ipython",
    "version": 2
   },
   "file_extension": ".py",
   "mimetype": "text/x-python",
   "name": "python",
   "nbconvert_exporter": "python",
   "pygments_lexer": "ipython2",
   "version": "2.7.12"
  }
 },
 "nbformat": 4,
 "nbformat_minor": 0
}
